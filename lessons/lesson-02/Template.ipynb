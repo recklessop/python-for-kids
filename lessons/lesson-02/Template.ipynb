{
 "cells": [
  {
   "cell_type": "code",
   "execution_count": null,
   "id": "9967c06c-c003-455c-961c-5e63335e8bb1",
   "metadata": {},
   "outputs": [],
   "source": [
    "# Lesson Template"
   ]
  },
  {
   "cell_type": "code",
   "execution_count": null,
   "id": "c6345948-3ca4-4d5e-8774-d6ee75a5434d",
   "metadata": {},
   "outputs": [],
   "source": [
    "!pip install -r requirements.txt"
   ]
  },
  {
   "cell_type": "code",
   "execution_count": 1,
   "id": "e398c4c9-6bc5-4aa6-a09e-a66a150fd3e0",
   "metadata": {},
   "outputs": [],
   "source": [
    "# Step 1"
   ]
  },
  {
   "cell_type": "code",
   "execution_count": null,
   "id": "07e124b9-20cf-4304-b3c0-6681e078b79b",
   "metadata": {},
   "outputs": [],
   "source": []
  },
  {
   "cell_type": "code",
   "execution_count": 2,
   "id": "36e413ae-8c0b-4153-987d-059c008cf909",
   "metadata": {},
   "outputs": [],
   "source": [
    "# Step 2"
   ]
  },
  {
   "cell_type": "code",
   "execution_count": null,
   "id": "adcf0696-dd22-45f9-b2a6-29cb6f153285",
   "metadata": {},
   "outputs": [],
   "source": []
  }
 ],
 "metadata": {
  "kernelspec": {
   "display_name": "Python 3 (ipykernel)",
   "language": "python",
   "name": "python3"
  },
  "language_info": {
   "codemirror_mode": {
    "name": "ipython",
    "version": 3
   },
   "file_extension": ".py",
   "mimetype": "text/x-python",
   "name": "python",
   "nbconvert_exporter": "python",
   "pygments_lexer": "ipython3",
   "version": "3.10.12"
  }
 },
 "nbformat": 4,
 "nbformat_minor": 5
}

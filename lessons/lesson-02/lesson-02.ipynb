{
 "cells": [
  {
   "cell_type": "markdown",
   "id": "459948e9-05aa-4f5b-a692-a19b1bd1e8cc",
   "metadata": {},
   "source": [
    "[![Open In Colab](https://colab.research.google.com/assets/colab-badge.svg)](https://colab.research.google.com/github/recklessop/python-for-kids/blob/main/lessons/lesson-02/lesson-02.ipynb)\n",
    "\n",
    "# Lesson 2: Variables and Data Types in Python"
   ]
  },
  {
   "cell_type": "markdown",
   "id": "d4e17d4e-f74e-4145-afcf-4113cde64aa9",
   "metadata": {},
   "source": [
    "## Objective:\n",
    "\n",
    "By the end of this lesson, you will understand the concept of variables, different data types in Python, how to declare and use variables, and perform basic arithmetic operations.\n",
    "\n",
    "## Topics Covered\n",
    "1. Introduction to Variables\n",
    "2. Data Types\n",
    "3. Declaring and Using Variables\n",
    "4. Printing Variables\n",
    "5. Basic Arithmetic Operations\n",
    "   \n",
    "## Lesson Content\n",
    "### 1. Introduction to Variables\n",
    "\n",
    "Imagine you're organizing your room, and you use different boxes to store your stuff. Each box has a label, like \"Toys,\" \"Books,\" or \"Clothes.\" In Python, we have something similar called **variables**. They're like labeled boxes where we store different kinds of information.\n",
    "\n",
    "### 2. Data Types\n",
    "\n",
    "In Python, we deal with different types of information, just like you have toys, books, and clothes. These types are called **data types**. Let's look at three of them:\n",
    "\n",
    "1. **Integer (int):** This is for whole numbers, like your age. For example, if you're 16 years old, we use an integer to represent that, like `age = 16`.\n",
    "\n",
    "2. **String (str):** Think of this as text, like your name. If your name is Alice, we use a string to represent it, like `name = \"Alice\"`. You can use single or double quotes for strings.\n",
    "\n",
    "3. **Float (float):** This is for numbers with decimals, like 3.14. If you have a favorite number like 3.14, we use a float to represent it, like `pi = 3.14`.\n",
    "\n",
    "### 3. Declaring and Using Variables\n",
    "\n",
    "Now, let's see how to use variables. To use a variable, you need to do two things: **declare** it and **assign** a value to it.\n",
    "\n",
    "For example:\n",
    "```python\n",
    "# Declaring variables\n",
    "age = 16\n",
    "name = \"Alice\"\n",
    "pi = 3.14\n",
    "```\n",
    "Here, we declared three variables: `age`, `name`, and `pi`, and we assigned values to them.\n",
    "\n",
    "In the code cell below, declare two variables: age & name; then set them equal to your name and age.\n"
   ]
  },
  {
   "cell_type": "code",
   "execution_count": null,
   "id": "349c0a18-6c48-46d7-9d03-36ab9454dfe1",
   "metadata": {},
   "outputs": [],
   "source": []
  },
  {
   "cell_type": "markdown",
   "id": "2d6d6c04-4edb-43bb-9a56-b1dc28ca3257",
   "metadata": {},
   "source": [
    "### 4. Printing Variables\n",
    "\n",
    "After storing information in variables, we might want to see what's inside. To do that, we use the `print()` function. It's like showing the contents of your boxes.\n",
    "\n",
    "For example:\n",
    "```python\n",
    "# Printing variables\n",
    "print(\"My age is\", age)\n",
    "print(\"My name is\", name)\n",
    "```\n",
    "\n",
    "When you run this code, it will show your age and name on the screen."
   ]
  },
  {
   "cell_type": "code",
   "execution_count": null,
   "id": "82128d49-26b3-44e5-af16-cb0c90fc806b",
   "metadata": {},
   "outputs": [],
   "source": [
    "# Printing variables\n",
    "print(\"My age is\", age)\n",
    "print(\"My name is\", name)"
   ]
  },
  {
   "cell_type": "markdown",
   "id": "454666b7-d2e7-45e6-bd09-db3a7aeaaf55",
   "metadata": {},
   "source": [
    "### 5. Basic Arithmetic Operations\n",
    "\n",
    "Python can also do math for us! We can use it for basic operations like addition, subtraction, multiplication, division, and even finding the remainder.\n",
    "\n",
    "For example:\n",
    "```python\n",
    "# Basic arithmetic operations\n",
    "x = 10\n",
    "y = 3\n",
    "sum_result = x + y           # addition\n",
    "difference_result = x - y    # subtraction\n",
    "product_result = x * y       # multiplication\n",
    "division_result = x / y      # division\n",
    "modulus_result = x % y       # mod divide (it returns the remainder after division\n",
    "```\n",
    "Here, `sum_result` would be 13 (because 10 + 3 = 13), `difference_result` would be 7 (10 - 3 = 7), and so on.\n",
    "\n",
    "In the code cell below, create a couple of variables and then practice some equations. Remember, this will be a two-step process, step 1 is to do the equation, and step 2 is to print the result."
   ]
  },
  {
   "cell_type": "code",
   "execution_count": null,
   "id": "702c0cdc-f501-49ac-ad1c-b5cbfaff498b",
   "metadata": {},
   "outputs": [],
   "source": []
  },
  {
   "cell_type": "markdown",
   "id": "e2084d7e-bcb5-4ce7-83f7-5a0007ca0768",
   "metadata": {},
   "source": [
    "# Practice\n",
    "\n",
    "**Now, here's a fun task:** Write a Python program right here in Jupyter Notebook that asks for your name and then says \"Hi\" to you. So, if you enter \"Max,\" the program should say \"Hi, Max!\"\n",
    "\n",
    "To get you started, here is a snippet that would print \"Hello World\" using python. Modify the code so that it prints hello then your first name."
   ]
  },
  {
   "cell_type": "code",
   "execution_count": 1,
   "id": "111a81a3-b673-4412-a2fb-ed220c7cc8ae",
   "metadata": {},
   "outputs": [
    {
     "name": "stdout",
     "output_type": "stream",
     "text": [
      "Hello World\n"
     ]
    }
   ],
   "source": [
    "print(\"Hello World\")"
   ]
  },
  {
   "cell_type": "markdown",
   "id": "21582678-fbda-4f1f-a9eb-2ab28fa2279e",
   "metadata": {},
   "source": [
    "# Coding Challenge\n",
    "\n",
    "Let's use variables and equations to solve a complex problem. Don't worry we will make the computer do all the work, we just have to tell it how to do the work.\n",
    "\n",
    "**Word Problem: Daniel's Lawn Mowing Service**\n",
    "\n",
    "Daniel has a lawn mowing service, and he's known for his speedy work. One day, a customer calls him and says they have a rectangular lawn that measures 50 feet in length and 100 feet in width. Daniel needs to figure out how much time it will take to mow the lawn and how much to charge for his services.\n",
    "\n",
    "**Task 1: Calculate the Area of the Lawn**\n",
    "\n",
    "Create an equation to determine the area of the lawn. The area of a rectangle is calculated by multiplying its length by its width. In this case, the equation would be:\n",
    "\n",
    "Area of Lawn = Length × Width\n",
    "\n",
    "In the code cell below use variables to create an equation that the computer can solve. To test your equation, run the code cell and see if it prints out the right area.\n"
   ]
  },
  {
   "cell_type": "code",
   "execution_count": 5,
   "id": "531e56cd-fbd9-4b00-8540-156cd985b224",
   "metadata": {},
   "outputs": [
    {
     "name": "stdout",
     "output_type": "stream",
     "text": [
      "Lawn area: 0 square feet.\n"
     ]
    }
   ],
   "source": [
    "# declare your variables here\n",
    "\n",
    "\n",
    "# write your equation here using the variables\n",
    "\n",
    "\n",
    "# the code below will print the result of your equation\n",
    "print(\"Lawn area: \" + str(area) + \" square feet.\")\n"
   ]
  },
  {
   "cell_type": "markdown",
   "id": "3dd5112e-1d2e-4261-b2e6-d6df62b673d3",
   "metadata": {},
   "source": [
    "**Task 2: Determine Mowing Time**\n",
    "\n",
    "Next, Daniel can mow 10 square feet per minute. Calculate how long it will take Daniel to mow the entire lawn. You can use the formula:\n",
    "\n",
    "Time (minutes) = Area of Lawn / Mowing Rate\n"
   ]
  },
  {
   "cell_type": "code",
   "execution_count": null,
   "id": "e11d5603-4ba0-4dee-bbb6-52c900a143ef",
   "metadata": {},
   "outputs": [],
   "source": [
    "# declare your variable for mowing_rate\n",
    "\n",
    "\n",
    "# write an equation here using the area variable from before and your new mowing_rate variable\n",
    "\n",
    "\n",
    "# the code below will print the result of your equation\n",
    "print(\"It will take Daniel \" + str(minutes) + \" to mow this lawn.\")"
   ]
  },
  {
   "cell_type": "markdown",
   "id": "1abd5973-224d-4811-9b60-1b208e8815d7",
   "metadata": {},
   "source": [
    "**Task 3: Calculate the Cost**\n",
    "\n",
    "Finally, Daniel charges $20 per hour for his services. To determine the cost, the student should first convert the mowing time from minutes to hours (since there are 60 minutes in an hour) and then calculate the cost:\n",
    "\n",
    "Cost ($) = Time (hours) × Hourly Rate\n",
    "\n",
    "Hint: how many minutes are in an hour? What needs to happen in your equation to convert minutes to hours?"
   ]
  },
  {
   "cell_type": "code",
   "execution_count": null,
   "id": "b950aea3-87d9-4e58-b4b2-20de6785a384",
   "metadata": {},
   "outputs": [],
   "source": [
    "# declare your variable for hourly rate\n",
    "\n",
    "\n",
    "# write an equation here to find the cost for mowing this lawn using the time variable from earlier and the new rate variable\n",
    "\n",
    "\n",
    "# the code below will print the results of your equation\n",
    "print(\"The cost to mow this lawn is: \" + str(cost))"
   ]
  },
  {
   "cell_type": "markdown",
   "id": "f523725a-6be4-43a3-8a93-46a36c1d6bc9",
   "metadata": {},
   "source": [
    "**Take away**\n",
    "\n",
    "This simple word problem is a great way to test your knowledge of variables and the print function from lesson 1. It also probably reminds you of one or more problems you have faced at school, and calculated using paper and pencil. You were acting as a computer, and even storing data in variables in your brain!"
   ]
  },
  {
   "cell_type": "markdown",
   "id": "255e3548-c5c4-4c97-9ba9-be0d10a41fa2",
   "metadata": {},
   "source": [
    "# Quiz Time\n",
    "\n",
    "Welcome to the quiz! In this quiz, you will be presented with a series of questions, and your task is to read each question carefully, select an answer from the multiple choices, and then click the \"Submit\" button to proceed to the next question.\n",
    "\n",
    "**Instructions:**\n",
    "1. Read each question thoroughly.\n",
    "2. Type the number that matches the answer you picked.\n",
    "3. Press enter to submit your answer.\n",
    "\n",
    "Let's get started!\n",
    "\n",
    "The next cell will install some Python modules, which can take a few seconds to do. Once it is done, run the next code cell to start the quiz.\n",
    "***"
   ]
  },
  {
   "cell_type": "code",
   "execution_count": null,
   "id": "28b9fa6d-adeb-48a7-8c3f-f4c59bdce201",
   "metadata": {
    "scrolled": true
   },
   "outputs": [],
   "source": [
    "# Click this code block then press \"Shift+Enter\" or click Run\n",
    "!pip uninstall -y pyquizjp\n",
    "!pip install -q -I --upgrade requests git+https://github.com/recklessop/pyquizjp.git\n",
    "import pyquizjp\n",
    "print(\"Built and imported quiz module, run the next cell to start the quiz.\")"
   ]
  },
  {
   "cell_type": "code",
   "execution_count": null,
   "id": "24dac25f-8cc4-47d0-a040-60330b354c13",
   "metadata": {},
   "outputs": [],
   "source": [
    "quiz = pyquizjp.Quiz()\n",
    "\n",
    "quiz.load_from_url(\"https://raw.githubusercontent.com/recklessop/python-for-kids/main/lessons/lesson-02/questions.json\")\n",
    "\n",
    "# Run the quiz loop\n",
    "quiz.run_quiz()"
   ]
  },
  {
   "cell_type": "markdown",
   "id": "ea6365b3-f26a-43da-9b35-8e9cd46ea811",
   "metadata": {},
   "source": [
    "# Lesson Complete\n",
    "\n",
    "Congratulations, you made it all the way through lesson 2.\n",
    "\n",
    "You should now ahve a basic understanding of how variables work in Python. Python has many data types, and often you will convert between datatypes, so understanding variables and datatypes is core to working with Python.\n",
    "\n",
    "Before moving on to lesson 3, feel free to add more code cells and try printing some other things as practice."
   ]
  },
  {
   "cell_type": "markdown",
   "id": "92ba0d57-8a4d-49da-9bb2-bc9244daf761",
   "metadata": {},
   "source": [
    "# Moving on to Lesson 2\n",
    "\n",
    "Once you are ready, you can click the \"Open in Colab\" badge below to start the next lesson.\n",
    "\n",
    "[![Open In Colab](https://colab.research.google.com/assets/colab-badge.svg)](https://colab.research.google.com/github/recklessop/python-for-kids/blob/main/lessons/lesson-03/lesson-03.ipynb)"
   ]
  },
  {
   "cell_type": "code",
   "execution_count": null,
   "id": "7aa7e548-69b5-49fa-8b07-c4533f1841f9",
   "metadata": {},
   "outputs": [],
   "source": []
  }
 ],
 "metadata": {
  "kernelspec": {
   "display_name": "Python 3 (ipykernel)",
   "language": "python",
   "name": "python3"
  },
  "language_info": {
   "codemirror_mode": {
    "name": "ipython",
    "version": 3
   },
   "file_extension": ".py",
   "mimetype": "text/x-python",
   "name": "python",
   "nbconvert_exporter": "python",
   "pygments_lexer": "ipython3",
   "version": "3.10.12"
  }
 },
 "nbformat": 4,
 "nbformat_minor": 5
}

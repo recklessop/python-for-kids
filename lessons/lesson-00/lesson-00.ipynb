{
 "cells": [
  {
   "cell_type": "markdown",
   "id": "459948e9-05aa-4f5b-a692-a19b1bd1e8cc",
   "metadata": {},
   "source": [
    "[![Open In Colab](https://colab.research.google.com/assets/colab-badge.svg)](https://colab.research.google.com/github/recklessop/python-for-kids/blob/main/lessons/lesson-00/lesson-00.ipynb)\n",
    "\n",
    "# Lesson 0: Let's Get Started with Python!"
   ]
  },
  {
   "cell_type": "markdown",
   "id": "d4e17d4e-f74e-4145-afcf-4113cde64aa9",
   "metadata": {},
   "source": [
    "**Objective:** \n",
    "\n",
    "In this lesson, you will learn the basics of using Jupyter Notebook, including how to run code cells, create new cells, and restart the kernel.\n",
    "\n",
    "Since all our lessons happen in Jupyter Notebooks, it's like knowing how to drive a car before going on a road trip. Understanding how Jupyter works will make it easier for you to focus on what we're learning in each lesson.\n",
    "\n",
    "## Topics Covered\n",
    "1. What is Jupyter Notebook?\n",
    "2. Navigating the Jupyter Interface\n",
    "3. Running Code in Jupyter\n",
    "4. Adding and Deleting Cells\n",
    "5. Restarting the Kernel\n",
    "   \n",
    "## Lesson Content\n",
    "**1. What is Jupyter Notebook?**\n",
    "\n",
    "Jupyter Notebook is an interactive and user-friendly environment for writing and running code. It's like a digital notebook where you can mix code, text, and visuals. It's super popular among programmers and data scientists!\n",
    "\n",
    "**2. Navigating the Jupyter Interface**\n",
    "\n",
    "When you open a Jupyter Notebook, you'll see an interface with a menu at the top and an area below where you can add and run code cells. It's like a word document mixed with a code playground.\n",
    "\n",
    "**3. Running Code in Jupyter**\n",
    "\n",
    "To run code in Jupyter, follow these steps:\n",
    "\n",
    "- Click on a code cell (the gray box).\n",
    "- Press Shift + Enter or click the \"Run\" button in the toolbar.\n",
    "- Watch the magic happen! Your code will run, and any output will appear below the cell.\n",
    "\n",
    "**4. Adding and Deleting Cells**\n",
    "\n",
    "You can add new cells to your notebook to write more code or text. Here's how:\n",
    "\n",
    "- Click the \"+\" button in the toolbar to add a cell below the currently selected cell.\n",
    "- Use \"Insert\" in the menu to add cells above or below.\n",
    "- To delete a cell, select it and click the \"scissors\" button or use \"Edit\" -> \"Delete\" from the menu.\n",
    "\n",
    "**5. Restarting the Kernel**\n",
    "\n",
    "Sometimes, you'll need a fresh start. You can restart the kernel (the magic behind the scenes) like this:\n",
    "\n",
    "- Click \"Kernel\" in the menu.\n",
    "- Choose \"Restart\" to clear everything and start fresh.\n",
    "- Be careful! This will erase any variables and data you've created.\n",
    "\n"
   ]
  },
  {
   "cell_type": "markdown",
   "id": "e2084d7e-bcb5-4ce7-83f7-5a0007ca0768",
   "metadata": {},
   "source": [
    "# Further Reading\n",
    "\n",
    "Jupyter Notebook Documentation\n",
    "Jupyter Notebook Keyboard Shortcuts"
   ]
  },
  {
   "cell_type": "markdown",
   "id": "202c1638-f83a-41d8-83a4-441e424b89bc",
   "metadata": {},
   "source": [
    "# Helpful Youtube Videos\n",
    "\n",
    "Here are some helpful videos that might also help you get familiar with Jupyter.\n",
    "\n",
    "\n"
   ]
  },
  {
   "cell_type": "markdown",
   "id": "979503a2-214d-4d07-bafe-beb5914b9b5f",
   "metadata": {},
   "source": [
    "# Moving on to Lesson 1\n",
    "\n",
    "Once you are ready, you can click the \"Open in Colab\" badge below to start the next lesson.\n",
    "\n",
    "[![Open In Colab](https://colab.research.google.com/assets/colab-badge.svg)](https://colab.research.google.com/github/recklessop/python-for-kids/blob/main/lessons/lesson-01/lesson-01.ipynb)"
   ]
  }
 ],
 "metadata": {
  "kernelspec": {
   "display_name": "Python 3 (ipykernel)",
   "language": "python",
   "name": "python3"
  },
  "language_info": {
   "codemirror_mode": {
    "name": "ipython",
    "version": 3
   },
   "file_extension": ".py",
   "mimetype": "text/x-python",
   "name": "python",
   "nbconvert_exporter": "python",
   "pygments_lexer": "ipython3",
   "version": "3.10.12"
  }
 },
 "nbformat": 4,
 "nbformat_minor": 5
}

{
 "cells": [
  {
   "cell_type": "markdown",
   "id": "459948e9-05aa-4f5b-a692-a19b1bd1e8cc",
   "metadata": {},
   "source": [
    "[![Open In Colab](https://colab.research.google.com/assets/colab-badge.svg)](https://colab.research.google.com/github/recklessop/python-for-kids/blob/main/lessons/lesson-00/lesson-00.ipynb)\n",
    "\n",
    "# Lesson 0: Let's Get Started with Python!"
   ]
  },
  {
   "cell_type": "markdown",
   "id": "d4e17d4e-f74e-4145-afcf-4113cde64aa9",
   "metadata": {},
   "source": [
    "**Objective:** \n",
    "\n",
    "In this lesson, you will learn the basics of using Jupyter Notebook, including how to run code cells, create new cells, and restart the kernel.\n",
    "\n",
    "Since all our lessons happen in Jupyter Notebooks, it's like knowing how to drive a car before going on a road trip. Understanding how Jupyter works will make it easier for you to focus on what we're learning in each lesson.\n",
    "\n",
    "## Topics Covered\n",
    "1. What is Jupyter Notebook?\n",
    "2. Navigating the Jupyter Interface\n",
    "3. Running Code in Jupyter\n",
    "4. Adding and Deleting Cells\n",
    "5. Restarting the Kernel\n",
    "   \n",
    "## Lesson Content\n",
    "**1. What is Jupyter Notebook?**\n",
    "\n",
    "Jupyter Notebook is an interactive and user-friendly environment for writing and running code. It's like a digital notebook where you can mix code, text, and visuals. It's super popular among programmers and data scientists!\n",
    "\n",
    "**2. Navigating the Jupyter Interface**\n",
    "\n",
    "When you open a Jupyter Notebook, you'll see an interface with a menu at the top and an area below where you can add and run code cells. It's like a word document mixed with a code playground.\n",
    "\n",
    "**3. Running Code in Jupyter**\n",
    "\n",
    "To run code in Jupyter, follow these steps:\n",
    "\n",
    "- Click on a code cell (the gray box).\n",
    "- Press Shift + Enter or click the \"Run\" button in the toolbar.\n",
    "- Watch the magic happen! Your code will run, and any output will appear below the cell."
   ]
  },
  {
   "cell_type": "code",
   "execution_count": null,
   "id": "b596f2e5-09af-4a1e-929f-edbec8e68cd3",
   "metadata": {},
   "outputs": [],
   "source": [
    "print(\"Hello Student! Welcome to Learning Python for Kids.\")"
   ]
  },
  {
   "cell_type": "markdown",
   "id": "06578ed4-8058-486c-be82-b7cd9cf7e12a",
   "metadata": {},
   "source": [
    "**4. Adding and Deleting Cells**\n",
    "\n",
    "You can add new cells to your notebook to write more code or text. Here's how:\n",
    "\n",
    "- Click the \"+\" button in the toolbar to add a cell below the currently selected cell.\n",
    "- Use \"Insert\" in the menu to add cells above or below.\n",
    "- To delete a cell, select it and click the \"scissors\" button or use \"Edit\" -> \"Delete\" from the menu."
   ]
  },
  {
   "cell_type": "code",
   "execution_count": null,
   "id": "0f6c5a59-8ff4-4e84-8a03-06ea84738ee7",
   "metadata": {},
   "outputs": [],
   "source": [
    "# This is a code cell, Remove the hashtag in front of the code below then press \"Shift+Enter\" to run it.\n",
    "\n",
    "#print(\"I hope you enjoy the upcoming lessons.\")"
   ]
  },
  {
   "cell_type": "markdown",
   "id": "64858576-1a17-4763-b3da-960527b1ac04",
   "metadata": {},
   "source": [
    "**5. Restarting the Kernel**\n",
    "\n",
    "Sometimes, you'll need a fresh start. You can restart the kernel (the magic behind the scenes) like this:\n",
    "\n",
    "- Click \"Kernel\" in the menu.\n",
    "- Choose \"Restart\" to clear everything and start fresh.\n",
    "- Be careful! This will erase any variables and data you've created."
   ]
  },
  {
   "cell_type": "markdown",
   "id": "979503a2-214d-4d07-bafe-beb5914b9b5f",
   "metadata": {},
   "source": [
    "# Moving on to Lesson 1\n",
    "\n",
    "Once you are ready, you can click the \"Open in Colab\" badge below to start the next lesson.\n",
    "\n",
    "[![Open In Colab](https://colab.research.google.com/assets/colab-badge.svg)](https://colab.research.google.com/github/recklessop/python-for-kids/blob/main/lessons/lesson-01/lesson-01.ipynb)"
   ]
  }
 ],
 "metadata": {
  "kernelspec": {
   "display_name": "Python 3 (ipykernel)",
   "language": "python",
   "name": "python3"
  },
  "language_info": {
   "codemirror_mode": {
    "name": "ipython",
    "version": 3
   },
   "file_extension": ".py",
   "mimetype": "text/x-python",
   "name": "python",
   "nbconvert_exporter": "python",
   "pygments_lexer": "ipython3",
   "version": "3.10.12"
  }
 },
 "nbformat": 4,
 "nbformat_minor": 5
}

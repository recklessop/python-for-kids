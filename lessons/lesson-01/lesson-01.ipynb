{
 "cells": [
  {
   "cell_type": "markdown",
   "id": "459948e9-05aa-4f5b-a692-a19b1bd1e8cc",
   "metadata": {},
   "source": [
    "[![Open In Colab](https://colab.research.google.com/assets/colab-badge.svg)](https://colab.research.google.com/github/recklessop/python-for-kids/blob/main/lessons/lesson-01/lesson-01.ipynb)\n",
    "\n",
    "# Lesson 1: Let's Get Started with Python!"
   ]
  },
  {
   "cell_type": "markdown",
   "id": "d4e17d4e-f74e-4145-afcf-4113cde64aa9",
   "metadata": {},
   "source": [
    "**Objective:** \n",
    "\n",
    "Hey there, in this lesson, we'll take our first steps into the world of Python programming. We'll discover what Python is, why it's super cool, and how to set up your computer for coding adventures.\n",
    "\n",
    "## Topics Covered\n",
    "1. What's the Deal with Python?\n",
    "2. Why Python Rocks!\n",
    "3. Using Python to print messages\n",
    "   \n",
    "## Lesson Content\n",
    "**1. What's the Deal with Python?**\n",
    "\n",
    "Python is like the superhero of programming languages. It's powerful, yet friendly and easy to learn. Think of Python as your secret code-writing language. It's used for all sorts of awesome things, like making websites, doing crazy math, and even teaching computers to play games!\n",
    "\n",
    "**2. Why Python Rocks!**\n",
    "\n",
    "Python is your perfect sidekick because:\n",
    "\n",
    "- **Easy to Read:** Python code looks a lot like regular English, so it's easy to understand.\n",
    "Can Do Anything: You can use Python to build websites, analyze data, create games, and more. It's a real multitasker!\n",
    "Helpful Community: If you ever get stuck, there's a huge group of Python-loving people out there ready to help you out.\n",
    "\n",
    "- **Cool Tools:** Python comes with a bunch of pre-built tools and extra stuff you can use to get things done faster.\n",
    "\n",
    "- **Can Do Anything:** You can use Python to build websites, analyze data, create games, and more. It's a real multitasker!\n",
    "\n",
    "- **Helpful Community:** If you ever get stuck, there's a huge group of Python-loving people out there ready to help you out.\n",
    "Cool Tools: Python comes with a bunch of pre-built tools and extra stuff you can use to get things done faster.\n",
    "\n",
    "**3. Using Python to print messages**\n",
    "\n",
    "**What's the print() Function?**\n",
    "\n",
    "The print() function in Python is like a magic spell that makes your computer talk to you. It's a way to tell your computer to display (or \"print\") things on the screen, like words, numbers, or even drawings if you get really creative!\n",
    "\n",
    "**How to Use print()?**\n",
    "\n",
    "You use the print() function like this:\n",
    "\n",
    "```\n",
    "print(\"Hello, Python!\")\n",
    "```\n",
    "\n",
    "***Here's what's happening:***\n",
    "\n",
    "***print***: This is the special word that tells Python you want to show something on the screen.\n",
    "\n",
    "***(*** and ***)***: These are like parentheses. They hold the stuff you want to show.\n",
    "\n",
    "***Inside the parentheses***, you put what you want to say or show. In this case, we put \"Hello, Python!\". That's just a bunch of letters and symbols between double quotes.\n",
    "\n",
    "***Why It's Cool***\n",
    "\n",
    "- ***Talk to Your Computer***: With print(), you can make your computer talk to you. You can tell it to say \"Hello\" or give you answers to math problems.\n",
    "- ***Debugging***: When you're writing a big program and something goes wrong, you can use print() to check what's happening at different points in your code. It's like turning on a light in a dark room to see what's going on.\n",
    "- ***Show Results***: If you make a super cool game or program, you can use print() to show scores, messages, and all sorts of cool stuff to the players.\n"
   ]
  },
  {
   "cell_type": "markdown",
   "id": "e2084d7e-bcb5-4ce7-83f7-5a0007ca0768",
   "metadata": {},
   "source": [
    "# Practical Exercise\n",
    "\n",
    "**Now, here's a fun task:** Write a Python program right here in Jupyter Notebook that asks for your name and then says \"Hi\" to you. So, if you enter \"Max,\" the program should say \"Hi, Max!\"\n",
    "\n",
    "To get you started, here is a snippet that would print \"Hello World\" using python. Modify the code so that it prints hello then your first name."
   ]
  },
  {
   "cell_type": "code",
   "execution_count": 1,
   "id": "111a81a3-b673-4412-a2fb-ed220c7cc8ae",
   "metadata": {},
   "outputs": [
    {
     "name": "stdout",
     "output_type": "stream",
     "text": [
      "Hello World\n"
     ]
    }
   ],
   "source": [
    "print(\"Hello World\")"
   ]
  },
  {
   "cell_type": "markdown",
   "id": "21582678-fbda-4f1f-a9eb-2ab28fa2279e",
   "metadata": {},
   "source": [
    "# Another Example\n",
    "\n",
    "Now, let's get a little bit more complex. This next code cell is going to ask you for your name. \n",
    "\n",
    "It will then store your name in the computer, then using print, it will print \"Hi 'your name'\"\n",
    "\n",
    "***Note***: the computer stores your name in memory using a 'variable'. We will talk more about variables in the next chapter. \n",
    "\n",
    "***Extra Credit***: Can you determine what part of the code is the variable?"
   ]
  },
  {
   "cell_type": "code",
   "execution_count": null,
   "id": "531e56cd-fbd9-4b00-8540-156cd985b224",
   "metadata": {},
   "outputs": [],
   "source": [
    "# Let's write your first Python program together\n",
    "\n",
    "name = input(\"What's your name? \")  # Ask for your name\n",
    "\n",
    "print(\"Hi,\", name + \"!\")"
   ]
  },
  {
   "cell_type": "markdown",
   "id": "255e3548-c5c4-4c97-9ba9-be0d10a41fa2",
   "metadata": {},
   "source": [
    "# Quiz Time\n",
    "\n",
    "Welcome to the quiz! In this quiz, you will be presented with a series of questions, and your task is to read each question carefully, select an answer from the multiple choices, and then click the \"Submit\" button to proceed to the next question.\n",
    "\n",
    "**Instructions:**\n",
    "1. Read each question thoroughly.\n",
    "2. Select your answer from the provided choices.\n",
    "3. Click the \"Submit\" button after making your selection.\n",
    "\n",
    "Let's get started!\n",
    "\n",
    "The next cell will install some python modules, it can take a few seconds to do. Once it is done, run the next code cell to start the quiz.\n",
    "***"
   ]
  },
  {
   "cell_type": "code",
   "execution_count": null,
   "id": "28b9fa6d-adeb-48a7-8c3f-f4c59bdce201",
   "metadata": {
    "scrolled": true
   },
   "outputs": [],
   "source": [
    "# Click this code block then press \"Shift+Enter\" or click Run\n",
    "!pip uninstall -y pyquizjp\n",
    "!pip install -q -I --upgrade requests git+https://github.com/recklessop/pyquizjp.git\n",
    "import pyquizjp\n",
    "print(\"Built and imported quiz module, run the next cell to start the quiz.\")"
   ]
  },
  {
   "cell_type": "code",
   "execution_count": null,
   "id": "24dac25f-8cc4-47d0-a040-60330b354c13",
   "metadata": {},
   "outputs": [],
   "source": [
    "quiz = pyquizjp.Quiz()\n",
    "quiz.load_from_url(\"https://raw.githubusercontent.com/recklessop/python-for-kids/main/lessons/lesson-01/questions.json\")\n",
    "\n",
    "# Run the quiz loop\n",
    "quiz.run_quiz()"
   ]
  },
  {
   "cell_type": "markdown",
   "id": "ea6365b3-f26a-43da-9b35-8e9cd46ea811",
   "metadata": {},
   "source": [
    "# Lesson Complete\n",
    "\n",
    "Congratulations, you made it all the way through lesson 1.\n",
    "\n",
    "You should now know how to use the print function in Python to display information on the screen. Later we will use print to display values stored in variables as well as show us debugging information as our code runs!\n",
    "\n",
    "Before moving on to lesson 2, feel free to add more code cells and try printing some other things as practice."
   ]
  },
  {
   "cell_type": "markdown",
   "id": "92ba0d57-8a4d-49da-9bb2-bc9244daf761",
   "metadata": {},
   "source": [
    "# Moving on to Lesson 2\n",
    "\n",
    "Once you are ready, you can click the \"Open in Colab\" badge below to start the next lesson.\n",
    "\n",
    "[![Open In Colab](https://colab.research.google.com/assets/colab-badge.svg)](https://colab.research.google.com/github/recklessop/python-for-kids/blob/main/lessons/lesson-02/lesson-02.ipynb)"
   ]
  }
 ],
 "metadata": {
  "kernelspec": {
   "display_name": "Python 3 (ipykernel)",
   "language": "python",
   "name": "python3"
  },
  "language_info": {
   "codemirror_mode": {
    "name": "ipython",
    "version": 3
   },
   "file_extension": ".py",
   "mimetype": "text/x-python",
   "name": "python",
   "nbconvert_exporter": "python",
   "pygments_lexer": "ipython3",
   "version": "3.10.12"
  }
 },
 "nbformat": 4,
 "nbformat_minor": 5
}
